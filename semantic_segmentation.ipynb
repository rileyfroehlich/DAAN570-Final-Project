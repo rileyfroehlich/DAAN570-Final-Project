{
 "cells": [
  {
   "cell_type": "code",
   "execution_count": 5,
   "metadata": {},
   "outputs": [],
   "source": [
    "import cv2\n",
    "import numpy as np\n",
    "\n",
    "#Reference\n",
    "#https://www.kaggle.com/code/bulentsiyah/deep-learning-based-semantic-segmentation-keras\n",
    "#https://github.com/gabrielchao/terrainclassifier\n"
   ]
  },
  {
   "cell_type": "code",
   "execution_count": null,
   "metadata": {},
   "outputs": [],
   "source": [
    "ann_img = np.zeros((30,30,3)).astype('uint8')\n",
    "ann_img[ 3 , 4 ] = 1 # this would set the label of pixel 3,4 as 1\n",
    "ann_img[ 0 , 0 ] = 2 # this would set the label of pixel 0,0 as 2"
   ]
  },
  {
   "cell_type": "code",
   "execution_count": 2,
   "metadata": {},
   "outputs": [
    {
     "ename": "FileNotFoundError",
     "evalue": "[Errno 2] No such file or directory: '/kaggle/input/semantic-drone-dataset/dataset/semantic_drone_dataset/original_images/001.jpg'",
     "output_type": "error",
     "traceback": [
      "\u001b[1;31m---------------------------------------------------------------------------\u001b[0m",
      "\u001b[1;31mFileNotFoundError\u001b[0m                         Traceback (most recent call last)",
      "Cell \u001b[1;32mIn[2], line 10\u001b[0m\n\u001b[0;32m      6\u001b[0m label_image_semantic \u001b[39m=\u001b[39m \u001b[39m\"\u001b[39m\u001b[39m/kaggle/input/semantic-drone-dataset/dataset/semantic_drone_dataset/label_images_semantic/001.png\u001b[39m\u001b[39m\"\u001b[39m\n\u001b[0;32m      8\u001b[0m fig, axs \u001b[39m=\u001b[39m plt\u001b[39m.\u001b[39msubplots(\u001b[39m1\u001b[39m, \u001b[39m2\u001b[39m, figsize\u001b[39m=\u001b[39m(\u001b[39m16\u001b[39m, \u001b[39m8\u001b[39m), constrained_layout\u001b[39m=\u001b[39m\u001b[39mTrue\u001b[39;00m)\n\u001b[1;32m---> 10\u001b[0m axs[\u001b[39m0\u001b[39m]\u001b[39m.\u001b[39mimshow( Image\u001b[39m.\u001b[39;49mopen(original_image))\n\u001b[0;32m     11\u001b[0m axs[\u001b[39m0\u001b[39m]\u001b[39m.\u001b[39mgrid(\u001b[39mFalse\u001b[39;00m)\n\u001b[0;32m     13\u001b[0m label_image_semantic \u001b[39m=\u001b[39m Image\u001b[39m.\u001b[39mopen(label_image_semantic)\n",
      "File \u001b[1;32m~\\AppData\\Roaming\\Python\\Python311\\site-packages\\PIL\\Image.py:3236\u001b[0m, in \u001b[0;36mopen\u001b[1;34m(fp, mode, formats)\u001b[0m\n\u001b[0;32m   3233\u001b[0m     filename \u001b[39m=\u001b[39m fp\n\u001b[0;32m   3235\u001b[0m \u001b[39mif\u001b[39;00m filename:\n\u001b[1;32m-> 3236\u001b[0m     fp \u001b[39m=\u001b[39m builtins\u001b[39m.\u001b[39;49mopen(filename, \u001b[39m\"\u001b[39;49m\u001b[39mrb\u001b[39;49m\u001b[39m\"\u001b[39;49m)\n\u001b[0;32m   3237\u001b[0m     exclusive_fp \u001b[39m=\u001b[39m \u001b[39mTrue\u001b[39;00m\n\u001b[0;32m   3239\u001b[0m \u001b[39mtry\u001b[39;00m:\n",
      "\u001b[1;31mFileNotFoundError\u001b[0m: [Errno 2] No such file or directory: '/kaggle/input/semantic-drone-dataset/dataset/semantic_drone_dataset/original_images/001.jpg'"
     ]
    },
    {
     "data": {
      "image/png": "[encoded data removed]",
      "text/plain": [
       "<Figure size 1600x800 with 2 Axes>"
      ]
     },
     "metadata": {},
     "output_type": "display_data"
    }
   ],
   "source": [
    "from PIL import Image\n",
    "import matplotlib.pyplot as plt\n",
    "%matplotlib inline\n",
    "\n",
    "original_image = \"/kaggle/input/semantic-drone-dataset/dataset/semantic_drone_dataset/original_images/001.jpg\"\n",
    "label_image_semantic = \"/kaggle/input/semantic-drone-dataset/dataset/semantic_drone_dataset/label_images_semantic/001.png\"\n",
    "\n",
    "fig, axs = plt.subplots(1, 2, figsize=(16, 8), constrained_layout=True)\n",
    "\n",
    "axs[0].imshow( Image.open(original_image))\n",
    "axs[0].grid(False)\n",
    "\n",
    "label_image_semantic = Image.open(label_image_semantic)\n",
    "label_image_semantic = np.asarray(label_image_semantic)\n",
    "axs[1].imshow(label_image_semantic)\n",
    "axs[1].grid(False)"
   ]
  },
  {
   "cell_type": "code",
   "execution_count": 6,
   "metadata": {},
   "outputs": [],
   "source": [
    "kaggle_commit = True\n",
    "\n",
    "epochs = 20\n",
    "if kaggle_commit:\n",
    "    epochs = 5"
   ]
  },
  {
   "cell_type": "code",
   "execution_count": 8,
   "metadata": {},
   "outputs": [
    {
     "name": "stdout",
     "output_type": "stream",
     "text": [
      "Downloading data from https://github.com/fchollet/deep-learning-models/releases/download/v0.1/vgg16_weights_tf_dim_ordering_tf_kernels_notop.h5\n",
      "58889256/58889256 [==============================] - 1s 0us/step\n",
      "Verifying training dataset\n"
     ]
    },
    {
     "ename": "FileNotFoundError",
     "evalue": "[WinError 3] The system cannot find the path specified: '/kaggle/input/semantic-drone-dataset/dataset/semantic_drone_dataset/original_images/'",
     "output_type": "error",
     "traceback": [
      "\u001b[1;31m---------------------------------------------------------------------------\u001b[0m",
      "\u001b[1;31mFileNotFoundError\u001b[0m                         Traceback (most recent call last)",
      "Cell \u001b[1;32mIn[8], line 6\u001b[0m\n\u001b[0;32m      3\u001b[0m n_classes \u001b[39m=\u001b[39m \u001b[39m23\u001b[39m \u001b[39m# Aerial Semantic Segmentation Drone Dataset tree, gras, other vegetation, dirt, gravel, rocks, water, paved area, pool, person, dog, car, bicycle, roof, wall, fence, fence-pole, window, door, obstacle\u001b[39;00m\n\u001b[0;32m      4\u001b[0m model \u001b[39m=\u001b[39m vgg_unet(n_classes\u001b[39m=\u001b[39mn_classes ,  input_height\u001b[39m=\u001b[39m\u001b[39m416\u001b[39m, input_width\u001b[39m=\u001b[39m\u001b[39m608\u001b[39m  )\n\u001b[1;32m----> 6\u001b[0m model\u001b[39m.\u001b[39;49mtrain( \n\u001b[0;32m      7\u001b[0m     train_images \u001b[39m=\u001b[39;49m  \u001b[39m\"\u001b[39;49m\u001b[39m/kaggle/input/semantic-drone-dataset/dataset/semantic_drone_dataset/original_images/\u001b[39;49m\u001b[39m\"\u001b[39;49m,\n\u001b[0;32m      8\u001b[0m     train_annotations \u001b[39m=\u001b[39;49m \u001b[39m\"\u001b[39;49m\u001b[39m/kaggle/input/semantic-drone-dataset/dataset/semantic_drone_dataset/label_images_semantic/\u001b[39;49m\u001b[39m\"\u001b[39;49m,\n\u001b[0;32m      9\u001b[0m     checkpoints_path \u001b[39m=\u001b[39;49m \u001b[39m\"\u001b[39;49m\u001b[39mvgg_unet\u001b[39;49m\u001b[39m\"\u001b[39;49m , epochs\u001b[39m=\u001b[39;49mepochs\n\u001b[0;32m     10\u001b[0m )\n",
      "File \u001b[1;32m~\\AppData\\Roaming\\Python\\Python311\\site-packages\\keras_segmentation\\train.py:130\u001b[0m, in \u001b[0;36mtrain\u001b[1;34m(model, train_images, train_annotations, input_height, input_width, n_classes, verify_dataset, checkpoints_path, epochs, batch_size, validate, val_images, val_annotations, val_batch_size, auto_resume_checkpoint, load_weights, steps_per_epoch, val_steps_per_epoch, gen_use_multiprocessing, ignore_zero_class, optimizer_name, do_augment, augmentation_name)\u001b[0m\n\u001b[0;32m    128\u001b[0m \u001b[39mif\u001b[39;00m verify_dataset:\n\u001b[0;32m    129\u001b[0m     \u001b[39mprint\u001b[39m(\u001b[39m\"\u001b[39m\u001b[39mVerifying training dataset\u001b[39m\u001b[39m\"\u001b[39m)\n\u001b[1;32m--> 130\u001b[0m     verified \u001b[39m=\u001b[39m verify_segmentation_dataset(train_images,\n\u001b[0;32m    131\u001b[0m                                            train_annotations,\n\u001b[0;32m    132\u001b[0m                                            n_classes)\n\u001b[0;32m    133\u001b[0m     \u001b[39massert\u001b[39;00m verified\n\u001b[0;32m    134\u001b[0m     \u001b[39mif\u001b[39;00m validate:\n",
      "File \u001b[1;32m~\\AppData\\Roaming\\Python\\Python311\\site-packages\\keras_segmentation\\data_utils\\data_loader.py:150\u001b[0m, in \u001b[0;36mverify_segmentation_dataset\u001b[1;34m(images_path, segs_path, n_classes, show_all_errors)\u001b[0m\n\u001b[0;32m    147\u001b[0m \u001b[39mdef\u001b[39;00m \u001b[39mverify_segmentation_dataset\u001b[39m(images_path, segs_path,\n\u001b[0;32m    148\u001b[0m                                 n_classes, show_all_errors\u001b[39m=\u001b[39m\u001b[39mFalse\u001b[39;00m):\n\u001b[0;32m    149\u001b[0m     \u001b[39mtry\u001b[39;00m:\n\u001b[1;32m--> 150\u001b[0m         img_seg_pairs \u001b[39m=\u001b[39m get_pairs_from_paths(images_path, segs_path)\n\u001b[0;32m    151\u001b[0m         \u001b[39mif\u001b[39;00m \u001b[39mnot\u001b[39;00m \u001b[39mlen\u001b[39m(img_seg_pairs):\n\u001b[0;32m    152\u001b[0m             \u001b[39mprint\u001b[39m(\u001b[39m\"\u001b[39m\u001b[39mCouldn\u001b[39m\u001b[39m'\u001b[39m\u001b[39mt load any data from images_path: \u001b[39m\u001b[39m\"\u001b[39m\n\u001b[0;32m    153\u001b[0m                   \u001b[39m\"\u001b[39m\u001b[39m{0}\u001b[39;00m\u001b[39m and segmentations path: \u001b[39m\u001b[39m{1}\u001b[39;00m\u001b[39m\"\u001b[39m\n\u001b[0;32m    154\u001b[0m                   \u001b[39m.\u001b[39mformat(images_path, segs_path))\n",
      "File \u001b[1;32m~\\AppData\\Roaming\\Python\\Python311\\site-packages\\keras_segmentation\\data_utils\\data_loader.py:42\u001b[0m, in \u001b[0;36mget_pairs_from_paths\u001b[1;34m(images_path, segs_path, ignore_non_matching)\u001b[0m\n\u001b[0;32m     39\u001b[0m image_files \u001b[39m=\u001b[39m []\n\u001b[0;32m     40\u001b[0m segmentation_files \u001b[39m=\u001b[39m {}\n\u001b[1;32m---> 42\u001b[0m \u001b[39mfor\u001b[39;00m dir_entry \u001b[39min\u001b[39;00m os\u001b[39m.\u001b[39;49mlistdir(images_path):\n\u001b[0;32m     43\u001b[0m     \u001b[39mif\u001b[39;00m os\u001b[39m.\u001b[39mpath\u001b[39m.\u001b[39misfile(os\u001b[39m.\u001b[39mpath\u001b[39m.\u001b[39mjoin(images_path, dir_entry)) \u001b[39mand\u001b[39;00m \\\n\u001b[0;32m     44\u001b[0m             os\u001b[39m.\u001b[39mpath\u001b[39m.\u001b[39msplitext(dir_entry)[\u001b[39m1\u001b[39m] \u001b[39min\u001b[39;00m ACCEPTABLE_IMAGE_FORMATS:\n\u001b[0;32m     45\u001b[0m         file_name, file_extension \u001b[39m=\u001b[39m os\u001b[39m.\u001b[39mpath\u001b[39m.\u001b[39msplitext(dir_entry)\n",
      "\u001b[1;31mFileNotFoundError\u001b[0m: [WinError 3] The system cannot find the path specified: '/kaggle/input/semantic-drone-dataset/dataset/semantic_drone_dataset/original_images/'"
     ]
    }
   ],
   "source": [
    "from keras_segmentation.models.unet import vgg_unet\n",
    "\n",
    "n_classes = 23 # Aerial Semantic Segmentation Drone Dataset tree, gras, other vegetation, dirt, gravel, rocks, water, paved area, pool, person, dog, car, bicycle, roof, wall, fence, fence-pole, window, door, obstacle\n",
    "model = vgg_unet(n_classes=n_classes ,  input_height=416, input_width=608  )\n",
    "\n",
    "model.train( \n",
    "    train_images =  \"/kaggle/input/semantic-drone-dataset/dataset/semantic_drone_dataset/original_images/\",\n",
    "    train_annotations = \"/kaggle/input/semantic-drone-dataset/dataset/semantic_drone_dataset/label_images_semantic/\",\n",
    "    checkpoints_path = \"vgg_unet\" , epochs=epochs\n",
    ")"
   ]
  },
  {
   "cell_type": "code",
   "execution_count": null,
   "metadata": {},
   "outputs": [],
   "source": [
    "import time\n",
    "from PIL import Image\n",
    "import matplotlib.pyplot as plt\n",
    "%matplotlib inline\n",
    "\n",
    "start = time.time()\n",
    "\n",
    "input_image = \"/kaggle/input/semantic-drone-dataset/dataset/semantic_drone_dataset/original_images/001.jpg\"\n",
    "out = model.predict_segmentation(\n",
    "    inp=input_image,\n",
    "    out_fname=\"out.png\"\n",
    ")\n",
    "\n",
    "fig, axs = plt.subplots(1, 3, figsize=(20, 20), constrained_layout=True)\n",
    "\n",
    "img_orig = Image.open(input_image)\n",
    "axs[0].imshow(img_orig)\n",
    "axs[0].set_title('original image-001.jpg')\n",
    "axs[0].grid(False)\n",
    "\n",
    "axs[1].imshow(out)\n",
    "axs[1].set_title('prediction image-out.png')\n",
    "axs[1].grid(False)\n",
    "\n",
    "validation_image = \"/kaggle/input/semantic-drone-dataset/dataset/semantic_drone_dataset/label_images_semantic/001.png\"\n",
    "axs[2].imshow( Image.open(validation_image))\n",
    "axs[2].set_title('true label image-001.png')\n",
    "axs[2].grid(False)\n",
    "\n",
    "done = time.time()\n",
    "elapsed = done - start"
   ]
  }
 ],
 "metadata": {
  "kernelspec": {
   "display_name": "Python 3",
   "language": "python",
   "name": "python3"
  },
  "language_info": {
   "codemirror_mode": {
    "name": "ipython",
    "version": 3
   },
   "file_extension": ".py",
   "mimetype": "text/x-python",
   "name": "python",
   "nbconvert_exporter": "python",
   "pygments_lexer": "ipython3",
   "version": "3.11.1"
  },
  "orig_nbformat": 4
 },
 "nbformat": 4,
 "nbformat_minor": 2
}
