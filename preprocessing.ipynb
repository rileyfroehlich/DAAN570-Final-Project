{
 "cells": [
  {
   "cell_type": "code",
   "execution_count": null,
   "metadata": {},
   "outputs": [],
   "source": [
    "import splitfolders\n",
    "\n",
    "all_images = \"datasets\\semantic_drone_dataset\\original_images\"\n",
    "all_labels = 'datasets\\semantic_drone_dataset\\label_images_semantic'\n",
    "\n",
    "splitfolders.ratio(all_images, output=\"output_images\", seed=1337, ratio=(.7, .3)) \n",
    "splitfolders.ratio(all_labels, output=\"output_labels\", seed=1337, ratio=(.7, .3)) "
   ]
  },
  {
   "cell_type": "code",
   "execution_count": 1,
   "metadata": {},
   "outputs": [
    {
     "ename": "NameError",
     "evalue": "name 'height' is not defined",
     "output_type": "error",
     "traceback": [
      "\u001b[1;31m---------------------------------------------------------------------------\u001b[0m",
      "\u001b[1;31mNameError\u001b[0m                                 Traceback (most recent call last)",
      "Cell \u001b[1;32mIn[1], line 29\u001b[0m\n\u001b[0;32m     27\u001b[0m image_paths \u001b[39m=\u001b[39m [\u001b[39m'\u001b[39m\u001b[39moutput_images/train/class1/\u001b[39m\u001b[39m'\u001b[39m, \u001b[39m'\u001b[39m\u001b[39moutput_images/val/class1/\u001b[39m\u001b[39m'\u001b[39m]  \u001b[39m# List of image file paths\u001b[39;00m\n\u001b[0;32m     28\u001b[0m mask_paths \u001b[39m=\u001b[39m [\u001b[39m'\u001b[39m\u001b[39moutput_labels/train/class1/\u001b[39m\u001b[39m'\u001b[39m, \u001b[39m'\u001b[39m\u001b[39moutput_labels/val/class1/\u001b[39m\u001b[39m'\u001b[39m]   \u001b[39m# List of mask file paths\u001b[39;00m\n\u001b[1;32m---> 29\u001b[0m target_size \u001b[39m=\u001b[39m (height, width)  \u001b[39m# Desired target size for both images and masks\u001b[39;00m\n\u001b[0;32m     31\u001b[0m resized_images, resized_masks \u001b[39m=\u001b[39m resize_images_and_masks(image_paths, mask_paths, target_size)\n",
      "\u001b[1;31mNameError\u001b[0m: name 'height' is not defined"
     ]
    }
   ],
   "source": [
    "height, width = 224\n",
    "\n",
    "from PIL import Image\n",
    "\n",
    "# Example function to resize images and masks\n",
    "def resize_images_and_masks(image_paths, mask_paths, target_size):\n",
    "    resized_images = []\n",
    "    resized_masks = []\n",
    "    for img_path, mask_path in zip(image_paths, mask_paths):\n",
    "        _, _, files = next(os.walk(img_path))\n",
    "        file_count = len(files)\n",
    "        for idx in range(file_count):\n",
    "            new_img_path = img_path+os.listdir(img_path)[idx]\n",
    "            new_mask_path = mask_path+os.listdir(mask_path)[idx]\n",
    "            img = Image.open(new_img_path)\n",
    "            mask = Image.open(new_mask_path)\n",
    "\n",
    "            # Resize image and mask to the target size\n",
    "            img = img.resize(target_size, Image.ANTIALIAS)\n",
    "            mask = mask.resize(target_size, Image.NEAREST)\n",
    "\n",
    "            resized_images.append(img)\n",
    "            resized_masks.append(mask)\n",
    "            print(idx)\n",
    "\n",
    "    return resized_images, resized_masks\n",
    "\n",
    "# Example usage:\n",
    "image_paths = ['output_images/train/class1/', 'output_images/val/class1/']  # List of image file paths\n",
    "mask_paths = ['output_labels/train/class1/', 'output_labels/val/class1/']   # List of mask file paths\n",
    "target_size = (height, width)  # Desired target size for both images and masks\n",
    "\n",
    "resized_images, resized_masks = resize_images_and_masks(image_paths, mask_paths, target_size)"
   ]
  }
 ],
 "metadata": {
  "kernelspec": {
   "display_name": "Python 3",
   "language": "python",
   "name": "python3"
  },
  "language_info": {
   "codemirror_mode": {
    "name": "ipython",
    "version": 3
   },
   "file_extension": ".py",
   "mimetype": "text/x-python",
   "name": "python",
   "nbconvert_exporter": "python",
   "pygments_lexer": "ipython3",
   "version": "3.11.1"
  },
  "orig_nbformat": 4
 },
 "nbformat": 4,
 "nbformat_minor": 2
}
